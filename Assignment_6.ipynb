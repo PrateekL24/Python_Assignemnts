{
 "cells": [
  {
   "cell_type": "code",
   "execution_count": null,
   "id": "9f052820-0a84-4df9-9a3d-0620eb23200a",
   "metadata": {},
   "outputs": [],
   "source": [
    "### 1. Write a Python Program to Display Fibonacci Sequence Using Recursion?"
   ]
  },
  {
   "cell_type": "code",
   "execution_count": 4,
   "id": "7c5e03b2-49d0-4bfa-b37f-f61ea6f557ad",
   "metadata": {},
   "outputs": [
    {
     "name": "stdin",
     "output_type": "stream",
     "text": [
      "Enter the length of the Fibonacci sequence:  10\n"
     ]
    },
    {
     "name": "stdout",
     "output_type": "stream",
     "text": [
      "Fibonacci sequence:\n",
      "0\n",
      "1\n",
      "1\n",
      "2\n",
      "3\n",
      "5\n",
      "8\n",
      "13\n",
      "21\n",
      "34\n"
     ]
    }
   ],
   "source": [
    "def fibonacci(n):\n",
    "    if n <= 1:\n",
    "        return n\n",
    "    else:\n",
    "        return fibonacci(n-1) + fibonacci(n-2)\n",
    "\n",
    "# take input from the user\n",
    "length = int(input(\"Enter the length of the Fibonacci sequence: \"))\n",
    "\n",
    "# Display the Fibonacci sequence\n",
    "print(\"Fibonacci sequence:\")\n",
    "for i in range(length):\n",
    "    print(fibonacci(i))\n"
   ]
  },
  {
   "cell_type": "code",
   "execution_count": null,
   "id": "e1ed7c55-9859-4e39-a699-7245c2912e30",
   "metadata": {},
   "outputs": [],
   "source": [
    "### 2. Write a Python Program to Find Factorial of Number Using Recursion?"
   ]
  },
  {
   "cell_type": "code",
   "execution_count": 8,
   "id": "6c78e030-1995-42fb-b60e-b478085bec97",
   "metadata": {},
   "outputs": [
    {
     "name": "stdin",
     "output_type": "stream",
     "text": [
      "Enter a number to find its factorial:  5\n"
     ]
    },
    {
     "name": "stdout",
     "output_type": "stream",
     "text": [
      "The factorial of 5 is 120.\n"
     ]
    }
   ],
   "source": [
    "def factorial(n):\n",
    "    if n == 1:\n",
    "        return 1\n",
    "    else:\n",
    "        return n * factorial(n-1)\n",
    "\n",
    "# take input from the user\n",
    "num = int(input(\"Enter a number to find its factorial: \"))\n",
    "\n",
    "# Check if the input is valid\n",
    "if num < 0:\n",
    "    print(\"Invalid input.\")\n",
    "elif num == 0:\n",
    "    print(\"The factorial of 0 is 1.\")\n",
    "else:\n",
    "    # Calculate and display the factorial\n",
    "    result = factorial(num)\n",
    "    print(f\"The factorial of {num} is {result}.\")\n"
   ]
  },
  {
   "cell_type": "code",
   "execution_count": null,
   "id": "02515db7-be02-449f-96c5-cde33d475d59",
   "metadata": {},
   "outputs": [],
   "source": [
    "### 3. Write a Python Program to calculate your Body Mass Index?"
   ]
  },
  {
   "cell_type": "code",
   "execution_count": 10,
   "id": "24823ab0-96b5-4449-a351-50df2b5d331e",
   "metadata": {},
   "outputs": [
    {
     "name": "stdin",
     "output_type": "stream",
     "text": [
      "Enter your height in centimeters:  164\n",
      "Enter your weight in kilograms:  40\n"
     ]
    },
    {
     "name": "stdout",
     "output_type": "stream",
     "text": [
      "Your Body Mass Index (BMI) is 14.87.\n"
     ]
    }
   ],
   "source": [
    "height_cm = float(input(\"Enter your height in centimeters: \"))\n",
    "weight_kg = float(input(\"Enter your weight in kilograms: \"))\n",
    "\n",
    "# Convert height from centimeters to meters\n",
    "height_m = height_cm / 100\n",
    "\n",
    "# Calculate the BMI\n",
    "bmi = weight_kg / (height_m ** 2)\n",
    "\n",
    "# Round off the BMI to two decimal places\n",
    "bmi = round(bmi, 2)\n",
    "\n",
    "# Display the result\n",
    "print(f\"Your Body Mass Index (BMI) is {bmi}.\")\n"
   ]
  },
  {
   "cell_type": "code",
   "execution_count": 11,
   "id": "93a61d06-62c3-436f-b52e-0c3304c3da9b",
   "metadata": {},
   "outputs": [
    {
     "name": "stdin",
     "output_type": "stream",
     "text": [
      "Enter a number to find its natural logarithm:  10\n"
     ]
    },
    {
     "name": "stdout",
     "output_type": "stream",
     "text": [
      "The natural logarithm of 10.0 is 2.302585092994046.\n"
     ]
    }
   ],
   "source": [
    "import math\n",
    "\n",
    "# take input from the user\n",
    "num = float(input(\"Enter a number to find its natural logarithm: \"))\n",
    "\n",
    "# Check if the input is valid\n",
    "if num <= 0:\n",
    "    print(\"Invalid input.\")\n",
    "else:\n",
    "    # Calculate and display the natural logarithm\n",
    "    result = math.log(num)\n",
    "    print(f\"The natural logarithm of {num} is {result}.\")\n"
   ]
  },
  {
   "cell_type": "code",
   "execution_count": null,
   "id": "8bed25f2-0b1b-49ed-acac-c49cff50cbfd",
   "metadata": {},
   "outputs": [],
   "source": []
  },
  {
   "cell_type": "code",
   "execution_count": null,
   "id": "5cadc522-b7af-426c-9886-7ea8d1aeb2c1",
   "metadata": {},
   "outputs": [],
   "source": []
  },
  {
   "cell_type": "code",
   "execution_count": null,
   "id": "f05c52e0-822c-4be6-91fb-b9b45a87d6ae",
   "metadata": {},
   "outputs": [],
   "source": []
  },
  {
   "cell_type": "code",
   "execution_count": null,
   "id": "d4c1e809-f852-4c84-9f59-4be9b19cc5eb",
   "metadata": {},
   "outputs": [],
   "source": []
  }
 ],
 "metadata": {
  "kernelspec": {
   "display_name": "Python 3 (ipykernel)",
   "language": "python",
   "name": "python3"
  },
  "language_info": {
   "codemirror_mode": {
    "name": "ipython",
    "version": 3
   },
   "file_extension": ".py",
   "mimetype": "text/x-python",
   "name": "python",
   "nbconvert_exporter": "python",
   "pygments_lexer": "ipython3",
   "version": "3.10.6"
  }
 },
 "nbformat": 4,
 "nbformat_minor": 5
}
