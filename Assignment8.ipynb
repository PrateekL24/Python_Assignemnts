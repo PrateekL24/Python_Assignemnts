{
 "cells": [
  {
   "cell_type": "code",
   "execution_count": null,
   "id": "be57040d-3373-46ef-acb9-7d5e9f322052",
   "metadata": {},
   "outputs": [],
   "source": [
    "### 1. Write a Python program to find words which are greater than given length k?"
   ]
  },
  {
   "cell_type": "code",
   "execution_count": 1,
   "id": "a3e58b4d-facd-42d1-a9a1-014b82a72168",
   "metadata": {},
   "outputs": [
    {
     "name": "stdin",
     "output_type": "stream",
     "text": [
      "Enter a sentence:  I am doing assignment of ineuron\n",
      "Enter the minimum length of words to find:  2\n"
     ]
    },
    {
     "name": "stdout",
     "output_type": "stream",
     "text": [
      "['doing', 'assignment', 'ineuron']\n"
     ]
    }
   ],
   "source": [
    "def find_long_words():\n",
    "    \n",
    "    sentence = input(\"Enter a sentence: \")\n",
    "    k = int(input(\"Enter the minimum length of words to find: \"))\n",
    "    \n",
    "    words = sentence.split()\n",
    "    long_words = []\n",
    "    \n",
    "    for word in words:\n",
    "        if len(word) > k:\n",
    "            long_words.append(word)\n",
    "    \n",
    "    return long_words\n",
    "\n",
    "print(find_long_words())\n"
   ]
  },
  {
   "cell_type": "code",
   "execution_count": null,
   "id": "66f12aa6-f352-4083-8a0f-f34dab50d3a0",
   "metadata": {},
   "outputs": [],
   "source": [
    "### 2. Write a Python program for removing i-th character from a string?"
   ]
  },
  {
   "cell_type": "code",
   "execution_count": 3,
   "id": "f79ba639-93d7-41ea-ac9a-b0de15f53cb6",
   "metadata": {},
   "outputs": [
    {
     "name": "stdout",
     "output_type": "stream",
     "text": [
      "Hell, iNeuron!\n"
     ]
    }
   ],
   "source": [
    "def remove_char(string, i):\n",
    "    new_string = \"\"\n",
    "    for index, char in enumerate(string):\n",
    "        if index != i:\n",
    "            new_string += char\n",
    "    \n",
    "    return new_string\n",
    "\n",
    "my_string = \"Hello, iNeuron!\"\n",
    "i = 4\n",
    "print(remove_char(my_string, i))\n"
   ]
  },
  {
   "cell_type": "code",
   "execution_count": null,
   "id": "c94db750-6941-49e8-b732-2107108a9dd7",
   "metadata": {},
   "outputs": [],
   "source": [
    "### 3. Write a Python program to split and join a string?"
   ]
  },
  {
   "cell_type": "code",
   "execution_count": 4,
   "id": "48498a2b-9d28-4746-b991-d7eb987f0aec",
   "metadata": {},
   "outputs": [
    {
     "name": "stdout",
     "output_type": "stream",
     "text": [
      "I-am-using-iNeuron-lab\n"
     ]
    }
   ],
   "source": [
    "def split_and_join(string):\n",
    "    \n",
    "    return \"-\".join(string.split())\n",
    "\n",
    "my_string = \"I am using iNeuron lab\"\n",
    "print(split_and_join(my_string))\n"
   ]
  },
  {
   "cell_type": "code",
   "execution_count": null,
   "id": "99ce64bc-1223-4a7e-a6bb-2b3132165198",
   "metadata": {},
   "outputs": [],
   "source": [
    "### 4. Write a Python to check if a given string is binary string or not?"
   ]
  },
  {
   "cell_type": "code",
   "execution_count": 5,
   "id": "d66cb8fb-be70-4e81-8580-ee3739260eeb",
   "metadata": {},
   "outputs": [
    {
     "name": "stdout",
     "output_type": "stream",
     "text": [
      "True\n",
      "False\n"
     ]
    }
   ],
   "source": [
    "def is_binary(string):\n",
    "   \n",
    "    return set(string) <= {'0', '1'}\n",
    "\n",
    "binary_string = \"10101010101\"\n",
    "non_binary_string = \"10102011101\"\n",
    "print(is_binary(binary_string))\n",
    "print(is_binary(non_binary_string)) \n"
   ]
  },
  {
   "cell_type": "code",
   "execution_count": null,
   "id": "616c6785-022d-40b0-8cac-a9036700cc77",
   "metadata": {},
   "outputs": [],
   "source": [
    "### 6. Write a Python to find all duplicate characters in string?"
   ]
  },
  {
   "cell_type": "code",
   "execution_count": null,
   "id": "c35e3b9b-8808-460a-a79d-b928ecbffe21",
   "metadata": {},
   "outputs": [],
   "source": [
    "def find_duplicates(string):\n",
    "    \n",
    "    duplicates = set()\n",
    "    for char in string:\n",
    "        if string.count(char) > 1:\n",
    "            duplicates.add(char)\n",
    "    return duplicates\n",
    "\n",
    "my_string = \"hello world\"\n",
    "print(find_duplicates(my_string)) \n"
   ]
  },
  {
   "cell_type": "code",
   "execution_count": null,
   "id": "f101df81-5329-48fd-9db4-2da23d72e9eb",
   "metadata": {},
   "outputs": [],
   "source": []
  },
  {
   "cell_type": "code",
   "execution_count": null,
   "id": "acaae6d8-7071-46bb-93ae-71ec9d8cd11b",
   "metadata": {},
   "outputs": [],
   "source": []
  },
  {
   "cell_type": "code",
   "execution_count": null,
   "id": "a423a499-04e4-4b17-8720-eb59c62e0257",
   "metadata": {},
   "outputs": [],
   "source": []
  },
  {
   "cell_type": "code",
   "execution_count": null,
   "id": "965575bd-9a08-4840-b8cc-1c6df4af68d1",
   "metadata": {},
   "outputs": [],
   "source": []
  }
 ],
 "metadata": {
  "kernelspec": {
   "display_name": "Python 3 (ipykernel)",
   "language": "python",
   "name": "python3"
  },
  "language_info": {
   "codemirror_mode": {
    "name": "ipython",
    "version": 3
   },
   "file_extension": ".py",
   "mimetype": "text/x-python",
   "name": "python",
   "nbconvert_exporter": "python",
   "pygments_lexer": "ipython3",
   "version": "3.10.6"
  }
 },
 "nbformat": 4,
 "nbformat_minor": 5
}
