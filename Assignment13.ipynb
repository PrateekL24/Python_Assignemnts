{
 "cells": [
  {
   "cell_type": "code",
   "execution_count": null,
   "id": "b845f17e-0250-4f69-8dda-ba3bab70e912",
   "metadata": {},
   "outputs": [],
   "source": [
    "\n",
    "### 1. Write a program that calculates and prints the value according to the given formula:\n",
    "Q = Square root of [(2 C D)/H]\n",
    "\n",
    "Following are the fixed values of C and H:\n",
    "\n",
    "C is 50. H is 30.\n",
    "\n",
    "D is the variable whose values should be input to your program in a comma-separated sequence.\n",
    "\n",
    "Example\n",
    "\n",
    "Let us assume the following comma separated input sequence is given to the program:\n",
    "\n",
    "100,150,180\n",
    "\n",
    "The output of the program should be:\n",
    "\n",
    "18,22,24"
   ]
  },
  {
   "cell_type": "code",
   "execution_count": null,
   "id": "f901d2bc-df94-4206-a821-1ff35bac5a95",
   "metadata": {},
   "outputs": [],
   "source": [
    "import math\n",
    "\n",
    "C = 50\n",
    "H = 30\n",
    "\n",
    "def calculate_Q(D):\n",
    "    return int(math.sqrt((2 * C * D) / H))\n",
    "\n",
    "D_list = input(\"Enter the values of D (comma-separated): \").split(\",\")\n",
    "Q_list = [str(calculate_Q(int(D))) for D in D_list]\n",
    "\n",
    "print(\",\".join(Q_list))\n"
   ]
  },
  {
   "cell_type": "code",
   "execution_count": null,
   "id": "1f6c292f-6b6d-410c-948a-dbbade57992d",
   "metadata": {},
   "outputs": [],
   "source": [
    "### 2. Write a program which takes 2 digits, X,Y as input and generates a 2-dimensional array. The element value in the i-th row and j-th column of the array should be i*j."
   ]
  },
  {
   "cell_type": "code",
   "execution_count": 1,
   "id": "dd8c63cb-df19-406a-8908-c043e8199047",
   "metadata": {},
   "outputs": [
    {
     "name": "stdin",
     "output_type": "stream",
     "text": [
      "Enter the number of rows:  3\n",
      "Enter the number of columns:  4\n"
     ]
    },
    {
     "name": "stdout",
     "output_type": "stream",
     "text": [
      "[0, 0, 0, 0]\n",
      "[0, 1, 2, 3]\n",
      "[0, 2, 4, 6]\n"
     ]
    }
   ],
   "source": [
    "X = int(input(\"Enter the number of rows: \"))\n",
    "Y = int(input(\"Enter the number of columns: \"))\n",
    "\n",
    "# create an empty 2D array\n",
    "array_2d = []\n",
    "\n",
    "# generate the elements of the 2D array\n",
    "for i in range(X):\n",
    "    row = []\n",
    "    for j in range(Y):\n",
    "        row.append(i*j)\n",
    "    array_2d.append(row)\n",
    "\n",
    "# print the 2D array\n",
    "for row in array_2d:\n",
    "    print(row)\n"
   ]
  },
  {
   "cell_type": "code",
   "execution_count": null,
   "id": "160cf11b-6f48-490f-9664-f99425815d1d",
   "metadata": {},
   "outputs": [],
   "source": [
    "### 3. Write a program that accepts a comma separated sequence of words as input and prints the words in a comma-separated sequence after sorting them alphabetically."
   ]
  },
  {
   "cell_type": "code",
   "execution_count": 5,
   "id": "d79db7c3-6653-45c5-8d79-aa06c6d2ec0f",
   "metadata": {},
   "outputs": [
    {
     "name": "stdin",
     "output_type": "stream",
     "text": [
      "Enter a comma-separated sequence of words:  b,a,c,f,e,d\n"
     ]
    },
    {
     "name": "stdout",
     "output_type": "stream",
     "text": [
      "a,b,c,d,e,f\n"
     ]
    }
   ],
   "source": [
    "words = input(\"Enter a comma-separated sequence of words: \")\n",
    "word_list = words.split(',')\n",
    "word_list.sort()\n",
    "sorted_words = ','.join(word_list)\n",
    "print(sorted_words)\n"
   ]
  },
  {
   "cell_type": "code",
   "execution_count": null,
   "id": "45c9681b-a170-4f76-a3af-79191f0d10c9",
   "metadata": {},
   "outputs": [],
   "source": [
    "### 4. Write a program that accepts a sequence of whitespace separated words as input and prints the words after removing all duplicate words and sorting them alphanumerically."
   ]
  },
  {
   "cell_type": "code",
   "execution_count": 7,
   "id": "cef52472-8691-4ad0-926f-58a733047330",
   "metadata": {},
   "outputs": [
    {
     "name": "stdin",
     "output_type": "stream",
     "text": [
      "Enter words separated by space:  hello world hello ineuron\n"
     ]
    },
    {
     "name": "stdout",
     "output_type": "stream",
     "text": [
      "hello ineuron world\n"
     ]
    }
   ],
   "source": [
    "words = input(\"Enter words separated by space: \").split()\n",
    "unique_words = sorted(set(words))\n",
    "print(\" \".join(unique_words))\n"
   ]
  },
  {
   "cell_type": "code",
   "execution_count": null,
   "id": "579b213f-890e-41a7-806a-f807db8bf276",
   "metadata": {},
   "outputs": [],
   "source": [
    "### 5. Write a program that accepts a sentence and calculate the number of letters and digits."
   ]
  },
  {
   "cell_type": "code",
   "execution_count": 9,
   "id": "80ff6c4b-571e-4a6d-8a1c-452ff7d85b3b",
   "metadata": {},
   "outputs": [
    {
     "name": "stdin",
     "output_type": "stream",
     "text": [
      "Enter a sentence:  i am doing assignment no 13\n"
     ]
    },
    {
     "name": "stdout",
     "output_type": "stream",
     "text": [
      "Number of letters: 20\n",
      "Number of digits: 2\n"
     ]
    }
   ],
   "source": [
    "sentence = input(\"Enter a sentence: \")\n",
    "\n",
    "num_letters = 0\n",
    "num_digits = 0\n",
    "\n",
    "for char in sentence:\n",
    "    if char.isalpha():\n",
    "        num_letters += 1\n",
    "    elif char.isdigit():\n",
    "        num_digits += 1\n",
    "\n",
    "print(\"Number of letters:\", num_letters)\n",
    "print(\"Number of digits:\", num_digits)\n"
   ]
  }
 ],
 "metadata": {
  "kernelspec": {
   "display_name": "Python 3 (ipykernel)",
   "language": "python",
   "name": "python3"
  },
  "language_info": {
   "codemirror_mode": {
    "name": "ipython",
    "version": 3
   },
   "file_extension": ".py",
   "mimetype": "text/x-python",
   "name": "python",
   "nbconvert_exporter": "python",
   "pygments_lexer": "ipython3",
   "version": "3.10.6"
  }
 },
 "nbformat": 4,
 "nbformat_minor": 5
}
