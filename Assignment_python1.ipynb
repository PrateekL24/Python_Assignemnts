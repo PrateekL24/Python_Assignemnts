{
 "cells": [
  {
   "cell_type": "code",
   "execution_count": null,
   "id": "50ef0385-172d-46ed-9a4e-fa66058d4914",
   "metadata": {
    "tags": []
   },
   "outputs": [],
   "source": [
    "##1. Write a Python program to print \"Hello Python\"?"
   ]
  },
  {
   "cell_type": "code",
   "execution_count": 1,
   "id": "9ca1247b-112c-41f2-b0c8-03f913391be8",
   "metadata": {},
   "outputs": [
    {
     "name": "stdout",
     "output_type": "stream",
     "text": [
      "Hello Python\n"
     ]
    }
   ],
   "source": [
    "print('Hello Python')"
   ]
  },
  {
   "cell_type": "code",
   "execution_count": null,
   "id": "402031f0-c64f-4dfe-8e51-59953cbdd61f",
   "metadata": {},
   "outputs": [],
   "source": [
    "### 2. Write a Python program to do arithmetical operations addition and division.?"
   ]
  },
  {
   "cell_type": "code",
   "execution_count": 2,
   "id": "b5bf53d5-6ea9-4677-9568-7d57c9098849",
   "metadata": {},
   "outputs": [
    {
     "name": "stdout",
     "output_type": "stream",
     "text": [
      "This is addtion 15\n",
      "This is division 2.0\n"
     ]
    }
   ],
   "source": [
    "a = 10\n",
    "b = 5\n",
    "\n",
    "c = a+b\n",
    "\n",
    "d = a/b\n",
    "\n",
    "print('This is addtion',c)\n",
    "print('This is division',d)"
   ]
  },
  {
   "cell_type": "code",
   "execution_count": null,
   "id": "b6f91bc7-69d5-4ab5-ad70-18d04bcafab9",
   "metadata": {},
   "outputs": [],
   "source": [
    "### 3. Write a Python program to find the area of a triangle?\n"
   ]
  },
  {
   "cell_type": "code",
   "execution_count": 3,
   "id": "0b96f601-edb3-41fe-ae58-6a3a75cd6c7e",
   "metadata": {},
   "outputs": [
    {
     "name": "stdout",
     "output_type": "stream",
     "text": [
      "Area is =  187.5\n"
     ]
    }
   ],
   "source": [
    "height = 25\n",
    "base = 15\n",
    "\n",
    "area = (height * base)/2\n",
    "\n",
    "print('Area is = ' ,area)"
   ]
  },
  {
   "cell_type": "code",
   "execution_count": null,
   "id": "5529431a-867c-4e6e-9812-78317308b2ae",
   "metadata": {},
   "outputs": [],
   "source": [
    "### 4. Write a Python program to swap two variables?\n"
   ]
  },
  {
   "cell_type": "code",
   "execution_count": 4,
   "id": "dd7fdaf9-8fe1-4f18-bd82-c807519c312d",
   "metadata": {},
   "outputs": [
    {
     "name": "stdout",
     "output_type": "stream",
     "text": [
      "Value of x: 98\n",
      "Value of y: 23\n"
     ]
    }
   ],
   "source": [
    "x = 23\n",
    "\n",
    "y = 98\n",
    "\n",
    "temp = x\n",
    "\n",
    "x = y\n",
    "\n",
    "y = temp\n",
    "\n",
    "print('Value of x:', x)\n",
    "print('Value of y:', y)"
   ]
  },
  {
   "cell_type": "code",
   "execution_count": null,
   "id": "1da1bf12-d304-48d5-b1e9-ff9e909ae984",
   "metadata": {},
   "outputs": [],
   "source": [
    "### 5. Write a Python program to generate a random number?"
   ]
  },
  {
   "cell_type": "code",
   "execution_count": 5,
   "id": "6a07667f-4c71-4076-89bc-2b9c00e03295",
   "metadata": {},
   "outputs": [
    {
     "name": "stdout",
     "output_type": "stream",
     "text": [
      "3\n"
     ]
    }
   ],
   "source": [
    "import random\n",
    "\n",
    "print(random.randint(0,9))"
   ]
  }
 ],
 "metadata": {
  "kernelspec": {
   "display_name": "Python 3 (ipykernel)",
   "language": "python",
   "name": "python3"
  },
  "language_info": {
   "codemirror_mode": {
    "name": "ipython",
    "version": 3
   },
   "file_extension": ".py",
   "mimetype": "text/x-python",
   "name": "python",
   "nbconvert_exporter": "python",
   "pygments_lexer": "ipython3",
   "version": "3.10.6"
  }
 },
 "nbformat": 4,
 "nbformat_minor": 5
}
