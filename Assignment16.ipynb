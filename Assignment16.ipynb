{
 "cells": [
  {
   "cell_type": "code",
   "execution_count": 1,
   "id": "e7cf72c6-efba-4312-a11b-2e176357e1f2",
   "metadata": {},
   "outputs": [],
   "source": [
    "### 1. Write a function that stutters a word as if someone is struggling to read it. The first two letters are repeated twice with an ellipsis ... and space after each, and then the word is pronounced with a question mark ?. Examples stutter('incredible') ➞ 'in... in... incredible?' stutter('enthusiastic') ➞ 'en... en... enthusiastic?' stutter('outstanding') ➞ 'ou... ou... outstanding?'\n",
    "\n",
    "### Hint :- Assume all input is in lower case and at least two characters long."
   ]
  },
  {
   "cell_type": "code",
   "execution_count": 4,
   "id": "08ff8a6d-3ea9-4e8f-82d2-037f38d130a2",
   "metadata": {},
   "outputs": [
    {
     "name": "stdout",
     "output_type": "stream",
     "text": [
      "in... in... ineuron?\n",
      "as... as... assignments?\n",
      "da... da... data_analysis?\n"
     ]
    }
   ],
   "source": [
    "def stutter(word):\n",
    "    return f\"{word[:2]}... {word[:2]}... {word}?\"\n",
    "\n",
    "print(stutter(\"ineuron\")) \n",
    "print(stutter(\"assignments\")) \n",
    "print(stutter(\"data_analysis\"))\n"
   ]
  },
  {
   "cell_type": "code",
   "execution_count": null,
   "id": "bfdaf531-6d1e-4598-8ffb-cbc7ff2b7e08",
   "metadata": {},
   "outputs": [],
   "source": [
    "### 2. Create a function that takes an angle in radians and returns the corresponding angle in degrees rounded to one decimal place."
   ]
  },
  {
   "cell_type": "code",
   "execution_count": 5,
   "id": "ed96d7dc-223c-448e-9d18-1a47acf64177",
   "metadata": {},
   "outputs": [
    {
     "name": "stdin",
     "output_type": "stream",
     "text": [
      "Enter angle in radians:  1.57\n"
     ]
    },
    {
     "name": "stdout",
     "output_type": "stream",
     "text": [
      "1.57 radians is equal to 90.0 degrees.\n"
     ]
    }
   ],
   "source": [
    "import math\n",
    "\n",
    "# Take input from user\n",
    "radians = float(input(\"Enter angle in radians: \"))\n",
    "\n",
    "# Convert radians to degrees\n",
    "degrees = math.degrees(radians)\n",
    "\n",
    "# Round off the result to one decimal place\n",
    "result = round(degrees, 1)\n",
    "\n",
    "# Output the result\n",
    "print(f\"{radians} radians is equal to {result} degrees.\")\n"
   ]
  },
  {
   "cell_type": "markdown",
   "id": "857f86f4-b0e7-42f7-b10b-6d44635aba09",
   "metadata": {},
   "source": [
    " 3. In this challenge, establish if a given integer num is a Curzon number. \n",
    "If 1 plus 2 elevated to num is exactly divisible by 1 plus 2 multiplied by num, then num is a Curzon number.\n",
    "Given a non-negative integer num, implement a function that returns True if num is a Curzon number, or False otherwise."
   ]
  },
  {
   "cell_type": "code",
   "execution_count": 9,
   "id": "e4e8ad74-2ecb-45cb-a398-eec109594b0e",
   "metadata": {},
   "outputs": [
    {
     "name": "stdout",
     "output_type": "stream",
     "text": [
      "True\n",
      "False\n",
      "False\n"
     ]
    }
   ],
   "source": [
    "def is_curzon_number(num):\n",
    "    if num == 0:\n",
    "        return False\n",
    "    \n",
    "    numerator = 2**num + 1\n",
    "    denominator = 2*num + 1\n",
    "    \n",
    "    if numerator % denominator == 0:\n",
    "        return True\n",
    "    else:\n",
    "        return False\n",
    "\n",
    "num1 = 5\n",
    "num2 = 10\n",
    "num3 = 0\n",
    "\n",
    "print(is_curzon_number(num1)) \n",
    "print(is_curzon_number(num2)) \n",
    "print(is_curzon_number(num3)) \n"
   ]
  },
  {
   "cell_type": "code",
   "execution_count": null,
   "id": "a765c576-ae5f-47aa-8156-c37859a3c1dc",
   "metadata": {},
   "outputs": [],
   "source": [
    "### 4. Given the side length x find the area of a hexagon."
   ]
  },
  {
   "cell_type": "code",
   "execution_count": 10,
   "id": "5510014e-12e6-42aa-8d13-d8d9c5f8fb4c",
   "metadata": {},
   "outputs": [
    {
     "name": "stdin",
     "output_type": "stream",
     "text": [
      "Enter the side length of the hexagon:  6\n"
     ]
    },
    {
     "name": "stdout",
     "output_type": "stream",
     "text": [
      "The area of the hexagon with side length 6.0 is 93.53\n"
     ]
    }
   ],
   "source": [
    "import math\n",
    "\n",
    "def hexagon_area(side_length):\n",
    " \n",
    "    area = (3*math.sqrt(3)*side_length**2)/2\n",
    "    return round(area, 2)\n",
    "\n",
    "\n",
    "side_length = float(input(\"Enter the side length of the hexagon: \"))\n",
    "area = hexagon_area(side_length)\n",
    "print(f\"The area of the hexagon with side length {side_length} is {area}\")\n"
   ]
  },
  {
   "cell_type": "code",
   "execution_count": null,
   "id": "46351233-a62e-404c-b765-f099214fcc07",
   "metadata": {},
   "outputs": [],
   "source": [
    "### 5. Create a function that returns a base-2 (binary) representation of a base-10 (decimal) string number. To convert is simple: ((2) means base-2 and (10) means base-10) 010101001(2) = 1 + 8 + 32 + 128."
   ]
  },
  {
   "cell_type": "code",
   "execution_count": 12,
   "id": "5e55905f-6f2e-4109-bc85-06883db8014b",
   "metadata": {},
   "outputs": [
    {
     "name": "stdin",
     "output_type": "stream",
     "text": [
      "Enter a decimal number:  34\n"
     ]
    },
    {
     "name": "stdout",
     "output_type": "stream",
     "text": [
      "Binary representation of 34 is 100010\n"
     ]
    }
   ],
   "source": [
    "def decimal_to_binary(decimal):\n",
    "    binary = \"\"\n",
    "    while decimal > 0:\n",
    "        remainder = decimal % 2\n",
    "        binary = str(remainder) + binary\n",
    "        decimal = decimal // 2\n",
    "    return binary\n",
    "\n",
    "decimal = int(input(\"Enter a decimal number: \"))\n",
    "binary = decimal_to_binary(decimal)\n",
    "print(\"Binary representation of\", decimal, \"is\", binary)\n"
   ]
  }
 ],
 "metadata": {
  "kernelspec": {
   "display_name": "Python 3 (ipykernel)",
   "language": "python",
   "name": "python3"
  },
  "language_info": {
   "codemirror_mode": {
    "name": "ipython",
    "version": 3
   },
   "file_extension": ".py",
   "mimetype": "text/x-python",
   "name": "python",
   "nbconvert_exporter": "python",
   "pygments_lexer": "ipython3",
   "version": "3.10.6"
  }
 },
 "nbformat": 4,
 "nbformat_minor": 5
}
