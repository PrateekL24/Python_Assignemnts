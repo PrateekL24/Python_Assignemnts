{
 "cells": [
  {
   "cell_type": "code",
   "execution_count": null,
   "id": "cb84ef9c-0920-41d5-8c4f-216c4af0f084",
   "metadata": {},
   "outputs": [],
   "source": [
    "### 1. Write a Python program to check if the given number is a Disarium Number?"
   ]
  },
  {
   "cell_type": "code",
   "execution_count": 5,
   "id": "2e1d6275-6a85-4bf8-aa48-ad5d6644ae38",
   "metadata": {},
   "outputs": [
    {
     "name": "stdout",
     "output_type": "stream",
     "text": [
      "False\n",
      "True\n"
     ]
    }
   ],
   "source": [
    "def is_disarium(num):\n",
    "\n",
    "    sum_of_digits = 0\n",
    "    power = 1\n",
    "    for digit in str(num):\n",
    "        sum_of_digits += int(digit) ** power\n",
    "        power += 1\n",
    "    return num == sum_of_digits\n",
    "\n",
    "num1 = 125\n",
    "num2 = 135\n",
    "print(is_disarium(num1)) \n",
    "print(is_disarium(num2)) \n"
   ]
  },
  {
   "cell_type": "code",
   "execution_count": null,
   "id": "b5890405-51fc-4013-b4a4-eddce459404c",
   "metadata": {},
   "outputs": [],
   "source": [
    "### 2. Write a Python program to print all disarium numbers between 1 to 100?"
   ]
  },
  {
   "cell_type": "code",
   "execution_count": 6,
   "id": "fdfe1b4f-194c-4f45-add9-a5b8a0ee4741",
   "metadata": {},
   "outputs": [
    {
     "name": "stdout",
     "output_type": "stream",
     "text": [
      "1\n",
      "2\n",
      "3\n",
      "4\n",
      "5\n",
      "6\n",
      "7\n",
      "8\n",
      "9\n",
      "89\n"
     ]
    }
   ],
   "source": [
    "def is_disarium(num):\n",
    "    sum_of_digits = 0\n",
    "    power = 1\n",
    "    for digit in str(num):\n",
    "        sum_of_digits += int(digit) ** power\n",
    "        power += 1\n",
    "    return num == sum_of_digits\n",
    "\n",
    "for num in range(1, 101):\n",
    "    if is_disarium(num):\n",
    "        print(num)\n"
   ]
  },
  {
   "cell_type": "code",
   "execution_count": null,
   "id": "2a9bc1ba-f590-4013-b820-ea3444f4fe54",
   "metadata": {},
   "outputs": [],
   "source": [
    "### 3. Write a Python program to check if the given number is Happy Number?"
   ]
  },
  {
   "cell_type": "code",
   "execution_count": 8,
   "id": "112aac60-6900-4423-bee7-0037070d7ddd",
   "metadata": {},
   "outputs": [
    {
     "name": "stdout",
     "output_type": "stream",
     "text": [
      "True\n",
      "False\n"
     ]
    }
   ],
   "source": [
    "def is_happy_number(num):\n",
    "    seen = set()\n",
    "    while num != 1 and num not in seen:\n",
    "        seen.add(num)\n",
    "        num = sum(int(digit)**2 for digit in str(num))\n",
    "    return num == 1\n",
    "\n",
    "num1 = 19\n",
    "num2 = 22\n",
    "print(is_happy_number(num1)) \n",
    "print(is_happy_number(num2)) \n"
   ]
  },
  {
   "cell_type": "code",
   "execution_count": null,
   "id": "8ec7ef07-6c03-4828-bbee-aca155181490",
   "metadata": {},
   "outputs": [],
   "source": [
    "### 5. Write a Python program to determine whether the given number is a Harshad Number?"
   ]
  },
  {
   "cell_type": "code",
   "execution_count": 11,
   "id": "c3993876-b45f-452c-804e-ff9e997729b9",
   "metadata": {},
   "outputs": [
    {
     "name": "stdout",
     "output_type": "stream",
     "text": [
      "True\n",
      "False\n",
      "True\n"
     ]
    }
   ],
   "source": [
    "def is_harshad_number(num):\n",
    "\n",
    "    sum_of_digits = sum(int(digit) for digit in str(num))\n",
    "    return num % sum_of_digits == 0\n",
    "\n",
    "num1 = 18\n",
    "num2 = 19\n",
    "num3 = 1729\n",
    "\n",
    "print(is_harshad_number(num1)) \n",
    "print(is_harshad_number(num2)) \n",
    "print(is_harshad_number(num3))\n"
   ]
  },
  {
   "cell_type": "code",
   "execution_count": 12,
   "id": "cc1d9bea-67c5-4e2c-893e-d984ba6a6330",
   "metadata": {},
   "outputs": [
    {
     "name": "stdout",
     "output_type": "stream",
     "text": [
      "1\n",
      "2\n",
      "3\n",
      "4\n",
      "5\n",
      "6\n",
      "7\n",
      "8\n",
      "9\n",
      "10\n",
      "12\n",
      "18\n",
      "20\n",
      "21\n",
      "24\n",
      "27\n",
      "30\n",
      "36\n",
      "40\n",
      "42\n",
      "45\n",
      "48\n",
      "50\n",
      "54\n",
      "60\n",
      "63\n",
      "70\n",
      "72\n",
      "80\n",
      "81\n",
      "84\n",
      "90\n",
      "100\n"
     ]
    }
   ],
   "source": [
    "def is_harshad_number(num):\n",
    "  \n",
    "    sum_of_digits = sum(int(digit) for digit in str(num))\n",
    "    return num % sum_of_digits == 0\n",
    "\n",
    "# Printing all Harshad numbers between 1 and 100\n",
    "for i in range(1, 101):\n",
    "    if is_harshad_number(i):\n",
    "        print(i)\n"
   ]
  }
 ],
 "metadata": {
  "kernelspec": {
   "display_name": "Python 3 (ipykernel)",
   "language": "python",
   "name": "python3"
  },
  "language_info": {
   "codemirror_mode": {
    "name": "ipython",
    "version": 3
   },
   "file_extension": ".py",
   "mimetype": "text/x-python",
   "name": "python",
   "nbconvert_exporter": "python",
   "pygments_lexer": "ipython3",
   "version": "3.10.6"
  }
 },
 "nbformat": 4,
 "nbformat_minor": 5
}
