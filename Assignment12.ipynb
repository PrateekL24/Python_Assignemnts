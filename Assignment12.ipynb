{
 "cells": [
  {
   "cell_type": "code",
   "execution_count": null,
   "id": "76e9c9d9-e131-4c29-8ce7-9d67d576a152",
   "metadata": {},
   "outputs": [],
   "source": [
    "### 1. Write a Python program to Extract Unique values dictionary values?"
   ]
  },
  {
   "cell_type": "code",
   "execution_count": 1,
   "id": "a19dc474-59e1-4513-8206-dcf8a649c84d",
   "metadata": {},
   "outputs": [
    {
     "name": "stdout",
     "output_type": "stream",
     "text": [
      "{1, 2, 3}\n"
     ]
    }
   ],
   "source": [
    "my_dict = {'a': 1, 'b': 2, 'c': 3, 'd': 2, 'e': 1}\n",
    "\n",
    "unique_values = set(my_dict.values())\n",
    "\n",
    "print(unique_values)\n"
   ]
  },
  {
   "cell_type": "code",
   "execution_count": null,
   "id": "6dae40d1-3601-43d4-863e-78f9bc1a9250",
   "metadata": {},
   "outputs": [],
   "source": [
    "### 2. Write a Python program to find the sum of all items in a dictionary?"
   ]
  },
  {
   "cell_type": "code",
   "execution_count": 2,
   "id": "2c2977ac-a0c2-4a86-a701-b3aa5e1c449b",
   "metadata": {},
   "outputs": [
    {
     "name": "stdout",
     "output_type": "stream",
     "text": [
      "100\n"
     ]
    }
   ],
   "source": [
    "my_dict = {'a': 10, 'b': 20, 'c': 30, 'd': 40}\n",
    "values_sum = sum(my_dict.values())\n",
    "print(values_sum)  \n"
   ]
  },
  {
   "cell_type": "code",
   "execution_count": null,
   "id": "499cc13c-456f-4296-98d9-cf236fd2353a",
   "metadata": {},
   "outputs": [],
   "source": [
    "### 3. Write a Python program to Merging two Dictionaries?"
   ]
  },
  {
   "cell_type": "code",
   "execution_count": 3,
   "id": "9694fcd4-0c32-4943-8836-8d28395dbe65",
   "metadata": {},
   "outputs": [
    {
     "name": "stdout",
     "output_type": "stream",
     "text": [
      "{'a': 100, 'b': 200, 'x': 300, 'y': 400}\n"
     ]
    }
   ],
   "source": [
    "dict1 = {'a': 100, 'b': 200}\n",
    "dict2 = {'x': 300, 'y': 400}\n",
    "\n",
    "dict1.update(dict2)\n",
    "print(dict1)\n"
   ]
  },
  {
   "cell_type": "code",
   "execution_count": null,
   "id": "7f9b687d-deba-486b-9fe2-91e3e7051260",
   "metadata": {},
   "outputs": [],
   "source": [
    "### Write a Python program to sort Python Dictionaries by Key or Value?"
   ]
  },
  {
   "cell_type": "code",
   "execution_count": 4,
   "id": "7f9e3df9-2799-46bb-8530-3e5d3381d64f",
   "metadata": {},
   "outputs": [
    {
     "name": "stdout",
     "output_type": "stream",
     "text": [
      "[('a', 5), ('b', 1), ('c', 3), ('d', 2)]\n",
      "[('b', 1), ('d', 2), ('c', 3), ('a', 5)]\n"
     ]
    }
   ],
   "source": [
    "# sorting dictionary by key\n",
    "my_dict = {'a': 5, 'd': 2, 'c': 3, 'b': 1}\n",
    "sorted_dict_by_key = sorted(my_dict.items())\n",
    "print(sorted_dict_by_key)\n",
    "\n",
    "# sorting dictionary by value\n",
    "sorted_dict_by_value = sorted(my_dict.items(), key=lambda x: x[1])\n",
    "print(sorted_dict_by_value)\n"
   ]
  },
  {
   "cell_type": "code",
   "execution_count": null,
   "id": "ca5b81c5-5433-412c-bca5-3f936826df07",
   "metadata": {},
   "outputs": [],
   "source": [
    "### Write a Python program to convert key-values list to flat dictionary?"
   ]
  },
  {
   "cell_type": "code",
   "execution_count": 5,
   "id": "37005e3a-d49b-4e66-b6d0-7fbf0ea97d7f",
   "metadata": {},
   "outputs": [
    {
     "name": "stdout",
     "output_type": "stream",
     "text": [
      "{'key1': 1, 'key2': 2, 'key3': 3}\n"
     ]
    }
   ],
   "source": [
    "key_value_list = [('key1', 1), ('key2', 2), ('key3', 3)]\n",
    "\n",
    "flat_dict = {key: value for (key, value) in key_value_list}\n",
    "\n",
    "print(flat_dict)\n"
   ]
  }
 ],
 "metadata": {
  "kernelspec": {
   "display_name": "Python 3 (ipykernel)",
   "language": "python",
   "name": "python3"
  },
  "language_info": {
   "codemirror_mode": {
    "name": "ipython",
    "version": 3
   },
   "file_extension": ".py",
   "mimetype": "text/x-python",
   "name": "python",
   "nbconvert_exporter": "python",
   "pygments_lexer": "ipython3",
   "version": "3.10.6"
  }
 },
 "nbformat": 4,
 "nbformat_minor": 5
}
