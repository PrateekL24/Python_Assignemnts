{
 "cells": [
  {
   "cell_type": "code",
   "execution_count": 1,
   "id": "2af2c7fe-44b9-4faf-a7ff-bd1cea97cff1",
   "metadata": {},
   "outputs": [
    {
     "name": "stdin",
     "output_type": "stream",
     "text": [
      "Enter first number:  1\n",
      "Enter second number:  2\n"
     ]
    },
    {
     "name": "stdout",
     "output_type": "stream",
     "text": [
      "LCM of 1 and 2 is 2\n"
     ]
    }
   ],
   "source": [
    "### Write a Python Program to Find LCM?\n",
    "\n",
    "# Function to find GCD\n",
    "def gcd(a, b):\n",
    "    if b == 0:\n",
    "        return a\n",
    "    else:\n",
    "        return gcd(b, a % b)\n",
    "\n",
    "# Function to find LCM\n",
    "def lcm(a, b):\n",
    "    return (a * b) // gcd(a, b)\n",
    "\n",
    "# Main program\n",
    "num1 = int(input(\"Enter first number: \"))\n",
    "num2 = int(input(\"Enter second number: \"))\n",
    "\n",
    "print(\"LCM of\", num1, \"and\", num2, \"is\", lcm(num1, num2))\n"
   ]
  },
  {
   "cell_type": "code",
   "execution_count": null,
   "id": "05dee333-d7b1-4086-b33e-3cdd9e26d68b",
   "metadata": {},
   "outputs": [],
   "source": [
    "### 2. Write a Python Program to Find HCF?"
   ]
  },
  {
   "cell_type": "code",
   "execution_count": 2,
   "id": "ba692d62-7ad5-4eae-ae9c-839eaf1561a8",
   "metadata": {},
   "outputs": [
    {
     "name": "stdin",
     "output_type": "stream",
     "text": [
      "Enter first number:  34\n",
      "Enter second number:  54\n"
     ]
    },
    {
     "name": "stdout",
     "output_type": "stream",
     "text": [
      "HCF of 34 and 54 is 2\n"
     ]
    }
   ],
   "source": [
    "# Function to find HCF\n",
    "def hcf(a, b):\n",
    "    if b == 0:\n",
    "        return a\n",
    "    else:\n",
    "        return hcf(b, a % b)\n",
    "\n",
    "# Main program\n",
    "num1 = int(input(\"Enter first number: \"))\n",
    "num2 = int(input(\"Enter second number: \"))\n",
    "\n",
    "print(\"HCF of\", num1, \"and\", num2, \"is\", hcf(num1, num2))\n"
   ]
  },
  {
   "cell_type": "code",
   "execution_count": null,
   "id": "a53b32a9-f706-4fd3-9a64-822c9031a533",
   "metadata": {},
   "outputs": [],
   "source": [
    "### 3. Write a Python Program to Convert Decimal to Binary, Octal and Hexadecimal?"
   ]
  },
  {
   "cell_type": "code",
   "execution_count": 3,
   "id": "e8ca4213-c271-4e7d-bd78-73ab08c1f7fc",
   "metadata": {},
   "outputs": [
    {
     "name": "stdin",
     "output_type": "stream",
     "text": [
      "Enter a decimal number:  20\n"
     ]
    },
    {
     "name": "stdout",
     "output_type": "stream",
     "text": [
      "Binary equivalent: 0b10100\n",
      "Octal equivalent: 0o24\n",
      "Hexadecimal: 0x14\n"
     ]
    }
   ],
   "source": [
    "decimal = int(input(\"Enter a decimal number: \"))\n",
    "\n",
    "# Convert decimal to binary\n",
    "binary = bin(decimal)\n",
    "print(\"Binary equivalent:\", binary)\n",
    "\n",
    "# Convert decimal to octal\n",
    "octal = oct(decimal)\n",
    "print(\"Octal equivalent:\", octal)\n",
    "\n",
    "# Convert decimal to hexadecimal\n",
    "hexadecimal = hex(decimal)\n",
    "print(\"Hexadecimal:\", hexadecimal)\n"
   ]
  },
  {
   "cell_type": "code",
   "execution_count": null,
   "id": "f0be7440-1188-4d01-9f71-7dbe32466779",
   "metadata": {},
   "outputs": [],
   "source": [
    "### 4. Write a Python Program To Find ASCII value of a character?"
   ]
  },
  {
   "cell_type": "code",
   "execution_count": 4,
   "id": "ef633262-5af4-4fff-be04-155b054e20b8",
   "metadata": {},
   "outputs": [
    {
     "name": "stdin",
     "output_type": "stream",
     "text": [
      "Enter a character:  56\n"
     ]
    },
    {
     "ename": "TypeError",
     "evalue": "ord() expected a character, but string of length 2 found",
     "output_type": "error",
     "traceback": [
      "\u001b[0;31m---------------------------------------------------------------------------\u001b[0m",
      "\u001b[0;31mTypeError\u001b[0m                                 Traceback (most recent call last)",
      "Cell \u001b[0;32mIn [4], line 5\u001b[0m\n\u001b[1;32m      2\u001b[0m ch \u001b[38;5;241m=\u001b[39m \u001b[38;5;28minput\u001b[39m(\u001b[38;5;124m\"\u001b[39m\u001b[38;5;124mEnter a character: \u001b[39m\u001b[38;5;124m\"\u001b[39m)\n\u001b[1;32m      4\u001b[0m \u001b[38;5;66;03m# Finding ASCII value using ord() function\u001b[39;00m\n\u001b[0;32m----> 5\u001b[0m ascii_value \u001b[38;5;241m=\u001b[39m \u001b[38;5;28;43mord\u001b[39;49m\u001b[43m(\u001b[49m\u001b[43mch\u001b[49m\u001b[43m)\u001b[49m\n\u001b[1;32m      7\u001b[0m \u001b[38;5;66;03m# Printing the ASCII value\u001b[39;00m\n\u001b[1;32m      8\u001b[0m \u001b[38;5;28mprint\u001b[39m(\u001b[38;5;124m\"\u001b[39m\u001b[38;5;124mThe ASCII value of\u001b[39m\u001b[38;5;124m\"\u001b[39m, ch, \u001b[38;5;124m\"\u001b[39m\u001b[38;5;124mis\u001b[39m\u001b[38;5;124m\"\u001b[39m, ascii_value)\n",
      "\u001b[0;31mTypeError\u001b[0m: ord() expected a character, but string of length 2 found"
     ]
    }
   ],
   "source": [
    "# Taking input from user\n",
    "ch = input(\"Enter a character: \")\n",
    "\n",
    "# Finding ASCII value using ord() function\n",
    "ascii_value = ord(ch)\n",
    "\n",
    "# Printing the ASCII value\n",
    "print(\"The ASCII value of\", ch, \"is\", ascii_value)\n"
   ]
  },
  {
   "cell_type": "code",
   "execution_count": null,
   "id": "45793c35-8c73-4226-b7e9-048c564415e9",
   "metadata": {},
   "outputs": [
    {
     "name": "stdout",
     "output_type": "stream",
     "text": [
      "Please enter the String: "
     ]
    }
   ],
   "source": [
    "print (\"Please enter the String: \", end = \"\")  \n",
    "string = input()  \n",
    "string_length = len(string)  \n",
    "for K in string:  \n",
    "    ASCII = ord(K)  \n",
    "    print (K, \"\\t\", ASCII)  "
   ]
  }
 ],
 "metadata": {
  "kernelspec": {
   "display_name": "Python 3 (ipykernel)",
   "language": "python",
   "name": "python3"
  },
  "language_info": {
   "codemirror_mode": {
    "name": "ipython",
    "version": 3
   },
   "file_extension": ".py",
   "mimetype": "text/x-python",
   "name": "python",
   "nbconvert_exporter": "python",
   "pygments_lexer": "ipython3",
   "version": "3.10.6"
  }
 },
 "nbformat": 4,
 "nbformat_minor": 5
}
