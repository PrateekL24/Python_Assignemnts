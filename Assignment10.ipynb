{
 "cells": [
  {
   "cell_type": "code",
   "execution_count": null,
   "id": "676594d7-9975-44ff-b2b8-72c08de09403",
   "metadata": {},
   "outputs": [],
   "source": [
    "### 1. Write a Python program to find sum of elements in list?"
   ]
  },
  {
   "cell_type": "code",
   "execution_count": 1,
   "id": "5397767c-0a0d-40ec-a9cd-097d1b1bec7d",
   "metadata": {},
   "outputs": [
    {
     "name": "stdout",
     "output_type": "stream",
     "text": [
      "15\n"
     ]
    }
   ],
   "source": [
    "def sum_of_list_elements(lst):\n",
    "    sum = 0\n",
    "    for element in lst:\n",
    "        sum += element\n",
    "    return sum\n",
    "\n",
    "lst = [1, 2, 3, 4, 5]\n",
    "print(sum_of_list_elements(lst)) \n"
   ]
  },
  {
   "cell_type": "code",
   "execution_count": null,
   "id": "16da6255-3ee7-4b06-89a5-480337222dce",
   "metadata": {},
   "outputs": [],
   "source": [
    "### 2. Write a Python program to  Multiply all numbers in the list?"
   ]
  },
  {
   "cell_type": "code",
   "execution_count": 2,
   "id": "81493287-f4e1-4d60-8297-422c69bdc11b",
   "metadata": {},
   "outputs": [
    {
     "name": "stdout",
     "output_type": "stream",
     "text": [
      "The product of the numbers in the list is: 120\n"
     ]
    }
   ],
   "source": [
    "def multiply_numbers(numbers):\n",
    "\n",
    "    result = 1\n",
    "    for num in numbers:\n",
    "        result *= num\n",
    "    return result\n",
    "\n",
    "\n",
    "numbers = [2, 3, 4, 5]\n",
    "product = multiply_numbers(numbers)\n",
    "print(\"The product of the numbers in the list is:\", product)\n"
   ]
  },
  {
   "cell_type": "code",
   "execution_count": null,
   "id": "b0b5d0ae-494b-4866-b13a-858d0e227508",
   "metadata": {},
   "outputs": [],
   "source": [
    "### 3. Write a Python program to find smallest number in a list?"
   ]
  },
  {
   "cell_type": "code",
   "execution_count": 3,
   "id": "e862b5ae-d33b-456c-a0ee-7cb441c98bc2",
   "metadata": {},
   "outputs": [
    {
     "name": "stdout",
     "output_type": "stream",
     "text": [
      "1\n"
     ]
    }
   ],
   "source": [
    "def find_smallest(lst):\n",
    "    return min(lst)\n",
    "\n",
    "\n",
    "my_list = [5, 2, 8, 1, 9, 3]\n",
    "print(find_smallest(my_list)) \n"
   ]
  },
  {
   "cell_type": "code",
   "execution_count": null,
   "id": "e8ba438e-1e63-42f8-8fe5-a8529a48a46d",
   "metadata": {},
   "outputs": [],
   "source": [
    "### 4. Write a Python program to find largest number in a list?"
   ]
  },
  {
   "cell_type": "code",
   "execution_count": 4,
   "id": "6a8ed36d-43e6-461e-8e9b-de7131596da6",
   "metadata": {},
   "outputs": [
    {
     "name": "stdout",
     "output_type": "stream",
     "text": [
      "9\n"
     ]
    }
   ],
   "source": [
    "def find_smallest(lst):\n",
    "    return max(lst)\n",
    "\n",
    "\n",
    "my_list = [5, 2, 8, 1, 9, 3]\n",
    "print(find_smallest(my_list)) \n"
   ]
  },
  {
   "cell_type": "code",
   "execution_count": null,
   "id": "35031534-b882-4530-8de7-5796fbcf693e",
   "metadata": {},
   "outputs": [],
   "source": [
    "### 5. Write a Python program to find second largest number in a list?"
   ]
  },
  {
   "cell_type": "code",
   "execution_count": 1,
   "id": "b9f18728-c4b2-46e2-b873-08b9279d33b4",
   "metadata": {},
   "outputs": [
    {
     "name": "stdout",
     "output_type": "stream",
     "text": [
      "45\n"
     ]
    }
   ],
   "source": [
    "def find_second_largest(numbers):\n",
    "    numbers.sort()\n",
    "    return numbers[-2] if len(numbers) >= 2 else None\n",
    "\n",
    "# Example usage\n",
    "num_list = [10, 20, 4, 45, 99]\n",
    "second_largest = find_second_largest(num_list)\n",
    "print(second_largest)\n"
   ]
  },
  {
   "cell_type": "code",
   "execution_count": null,
   "id": "32d51ab0-309c-4f14-b329-15b5c6a77d53",
   "metadata": {},
   "outputs": [],
   "source": [
    "### 6. Write a Python program to find N largest elements from a list?"
   ]
  },
  {
   "cell_type": "code",
   "execution_count": 3,
   "id": "64d56d54-5c61-4bb1-b90b-9180f4494271",
   "metadata": {},
   "outputs": [
    {
     "name": "stdout",
     "output_type": "stream",
     "text": [
      "[6, 5, 4]\n"
     ]
    }
   ],
   "source": [
    "def find_N_largest_elements(lst, N):\n",
    "    sorted_lst = sorted(lst, reverse=True)\n",
    "    return sorted_lst[:N]\n",
    "lst = [1, 3, 5, 2, 4, 6]\n",
    "N = 3\n",
    "print(find_N_largest_elements(lst, N)) \n"
   ]
  },
  {
   "cell_type": "code",
   "execution_count": null,
   "id": "3369340e-4c81-402a-86b1-6b62ea1678cd",
   "metadata": {},
   "outputs": [],
   "source": [
    "### 7. Write a Python program to print even numbers in a list?"
   ]
  },
  {
   "cell_type": "code",
   "execution_count": 4,
   "id": "dc46f9b6-ae99-478d-bd5a-9ad00d0c7ca2",
   "metadata": {},
   "outputs": [
    {
     "name": "stdout",
     "output_type": "stream",
     "text": [
      "2\n",
      "4\n",
      "6\n",
      "8\n",
      "10\n"
     ]
    }
   ],
   "source": [
    "def print_even_numbers(lst):\n",
    "    for num in lst:\n",
    "        if num % 2 == 0:\n",
    "            print(num)\n",
    "\n",
    "lst = [1, 2, 3, 4, 5, 6, 7, 8, 9, 10]\n",
    "print_even_numbers(lst) \n"
   ]
  },
  {
   "cell_type": "code",
   "execution_count": null,
   "id": "8e551493-4673-4ca9-9e8e-ea56fd68f5ed",
   "metadata": {},
   "outputs": [],
   "source": [
    "### 9. Write a Python program to Remove empty List from List?"
   ]
  },
  {
   "cell_type": "code",
   "execution_count": 6,
   "id": "5a6db7ee-55a2-4b20-ab73-dbcfee7cfd03",
   "metadata": {},
   "outputs": [
    {
     "name": "stdout",
     "output_type": "stream",
     "text": [
      "[[1, 2, 3], [4, 5], [6]]\n"
     ]
    }
   ],
   "source": [
    "def remove_empty_lists(lst):\n",
    "    return [x for x in lst if x != []]\n",
    "\n",
    "\n",
    "lst = [[1, 2, 3], [], [4, 5], [], [], [6]]\n",
    "new_lst = remove_empty_lists(lst)\n",
    "print(new_lst) \n"
   ]
  },
  {
   "cell_type": "code",
   "execution_count": null,
   "id": "9d68b25a-fdae-492b-98c0-8906f6ab82cc",
   "metadata": {},
   "outputs": [],
   "source": [
    "### 10. Write a Python program to Cloning or Copying a list?"
   ]
  },
  {
   "cell_type": "code",
   "execution_count": 8,
   "id": "8f52aa12-db22-48b3-a597-656c4b83e5fa",
   "metadata": {},
   "outputs": [
    {
     "name": "stdout",
     "output_type": "stream",
     "text": [
      "[1, 2, 3, 4, 5]\n"
     ]
    }
   ],
   "source": [
    "original_list = [1, 2, 3, 4, 5]\n",
    "cloned_list = original_list.copy()\n",
    "print(cloned_list)"
   ]
  }
 ],
 "metadata": {
  "kernelspec": {
   "display_name": "Python 3 (ipykernel)",
   "language": "python",
   "name": "python3"
  },
  "language_info": {
   "codemirror_mode": {
    "name": "ipython",
    "version": 3
   },
   "file_extension": ".py",
   "mimetype": "text/x-python",
   "name": "python",
   "nbconvert_exporter": "python",
   "pygments_lexer": "ipython3",
   "version": "3.10.6"
  }
 },
 "nbformat": 4,
 "nbformat_minor": 5
}
