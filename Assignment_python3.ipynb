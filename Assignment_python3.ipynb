{
 "cells": [
  {
   "cell_type": "code",
   "execution_count": null,
   "id": "bb92474d-19a8-43fe-94a8-046b172974b1",
   "metadata": {},
   "outputs": [],
   "source": [
    "### Write a Python Program to Check if a Number is Positive, Negative or Zero?"
   ]
  },
  {
   "cell_type": "code",
   "execution_count": 4,
   "id": "ecde610c-36ca-4576-b2bc-a3726b1e1e25",
   "metadata": {},
   "outputs": [
    {
     "name": "stdin",
     "output_type": "stream",
     "text": [
      "Enter a number -17\n"
     ]
    },
    {
     "name": "stdout",
     "output_type": "stream",
     "text": [
      "Negative\n"
     ]
    }
   ],
   "source": [
    "num = float(input(\"Enter a number\"))\n",
    "if num > 0:\n",
    "    print(\"Positive Number\")\n",
    "elif num == 0:\n",
    "    print(\"Zero\")\n",
    "else:\n",
    "    print(\"Negative\")"
   ]
  },
  {
   "cell_type": "code",
   "execution_count": null,
   "id": "81c9656a-f9e5-4818-9589-47c28a831835",
   "metadata": {},
   "outputs": [],
   "source": [
    "### 2. Write a Python Program to Check if a Number is Odd or Even?\n"
   ]
  },
  {
   "cell_type": "code",
   "execution_count": 1,
   "id": "e1b89ab5-eece-4d90-bb69-09f34f15730e",
   "metadata": {},
   "outputs": [
    {
     "name": "stdin",
     "output_type": "stream",
     "text": [
      "Enter a number:  123\n"
     ]
    },
    {
     "name": "stdout",
     "output_type": "stream",
     "text": [
      "123 is Odd\n"
     ]
    }
   ],
   "source": [
    "num1 = int(input(\"Enter a number: \"))\n",
    "if (num1 % 2) == 0:\n",
    "   print(\"{0} is Even\".format(num1))\n",
    "else:\n",
    "   print(\"{0} is Odd\".format(num1))\n"
   ]
  },
  {
   "cell_type": "code",
   "execution_count": null,
   "id": "5ee0a560-5eec-4e0c-bf61-7123c13da5e5",
   "metadata": {},
   "outputs": [],
   "source": [
    "### 3. Write a Python Program to Check Prime Number?\n"
   ]
  },
  {
   "cell_type": "code",
   "execution_count": 3,
   "id": "1de648f9-bc2f-46d2-866f-0cd9c1481b04",
   "metadata": {},
   "outputs": [
    {
     "name": "stdin",
     "output_type": "stream",
     "text": [
      "Enter a number:  3\n"
     ]
    },
    {
     "name": "stdout",
     "output_type": "stream",
     "text": [
      "3 is a prime number\n"
     ]
    }
   ],
   "source": [
    "num2 = int(input(\"Enter a number: \"))\n",
    "\n",
    "flag = False\n",
    "\n",
    "if num2 > 1:\n",
    "    for i in range(2, num2):\n",
    "        if (num2 % i) == 0:\n",
    "            flag = True\n",
    "            break\n",
    "if flag:\n",
    "    print(num2, \"is not a prime number\")\n",
    "else:\n",
    "    print(num2, \"is a prime number\")"
   ]
  },
  {
   "cell_type": "code",
   "execution_count": null,
   "id": "7518d04f-52fe-4c57-895b-49fa433d5263",
   "metadata": {},
   "outputs": [],
   "source": [
    "### 5. Write a Python Program to Print all Prime Numbers in an Interval of 1-10000?"
   ]
  },
  {
   "cell_type": "code",
   "execution_count": null,
   "id": "7675d0b1-c5b0-42fe-918f-58525d06850c",
   "metadata": {},
   "outputs": [],
   "source": [
    "lower = 1\n",
    "upper = 10000\n",
    "\n",
    "print(\"Prime numbers between\", lower, \"and\", upper, \"are:\")\n",
    "\n",
    "for num3 in range(lower, upper + 1):\n",
    "   if num3 > 1:\n",
    "       for i in range(2, num3):\n",
    "           if (num3 % i) == 0:\n",
    "               break\n",
    "       else:\n",
    "           print(num3)"
   ]
  }
 ],
 "metadata": {
  "kernelspec": {
   "display_name": "Python 3 (ipykernel)",
   "language": "python",
   "name": "python3"
  },
  "language_info": {
   "codemirror_mode": {
    "name": "ipython",
    "version": 3
   },
   "file_extension": ".py",
   "mimetype": "text/x-python",
   "name": "python",
   "nbconvert_exporter": "python",
   "pygments_lexer": "ipython3",
   "version": "3.10.6"
  }
 },
 "nbformat": 4,
 "nbformat_minor": 5
}
