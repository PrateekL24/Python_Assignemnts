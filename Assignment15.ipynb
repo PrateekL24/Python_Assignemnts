{
 "cells": [
  {
   "cell_type": "code",
   "execution_count": null,
   "id": "14e6d140-b422-4415-8245-90f2840e5408",
   "metadata": {},
   "outputs": [],
   "source": [
    "### 1. Please write a program using generator to print the numbers which can be divisible by 5 and 7 between 0 and n in comma separated form while n is input by console."
   ]
  },
  {
   "cell_type": "code",
   "execution_count": 3,
   "id": "83e89846-df49-4035-a40c-0fac3acb5c54",
   "metadata": {},
   "outputs": [
    {
     "name": "stdin",
     "output_type": "stream",
     "text": [
      "Enter a number:  25\n"
     ]
    },
    {
     "name": "stdout",
     "output_type": "stream",
     "text": [
      "0\n"
     ]
    }
   ],
   "source": [
    "def divisible_by_5_7(n):\n",
    "    for i in range(n+1):\n",
    "        if i % 5 == 0 and i % 7 == 0:\n",
    "            yield i\n",
    "\n",
    "n = int(input(\"Enter a number: \"))\n",
    "result = divisible_by_5_7(n)\n",
    "print(*result, sep=\", \")\n"
   ]
  },
  {
   "cell_type": "code",
   "execution_count": null,
   "id": "d9619683-50eb-495a-89aa-b60b156eeb60",
   "metadata": {},
   "outputs": [],
   "source": [
    "### 2. Please write a program using generator to print the even numbers between 0 and n in comma separated form while n is input by console."
   ]
  },
  {
   "cell_type": "code",
   "execution_count": 4,
   "id": "e0687892-b754-426e-b6b9-21480d6138e7",
   "metadata": {},
   "outputs": [
    {
     "name": "stdin",
     "output_type": "stream",
     "text": [
      "Enter a number:  24\n"
     ]
    },
    {
     "name": "stdout",
     "output_type": "stream",
     "text": [
      "0,2,4,6,8,10,12,14,16,18,20,22,24\n"
     ]
    }
   ],
   "source": [
    "def even_numbers(n):\n",
    "    for i in range(n+1):\n",
    "        if i % 2 == 0:\n",
    "            yield i\n",
    "\n",
    "n = int(input(\"Enter a number: \"))\n",
    "even_nums = even_numbers(n)\n",
    "print(\",\".join(str(num) for num in even_nums))\n"
   ]
  },
  {
   "cell_type": "code",
   "execution_count": null,
   "id": "33922947-f99a-4cdd-a633-ecc04c01491e",
   "metadata": {},
   "outputs": [],
   "source": [
    "### 3. Please write a program using list comprehension to print the Fibonacci Sequence in comma separated form with a given n input by console."
   ]
  },
  {
   "cell_type": "code",
   "execution_count": 6,
   "id": "26f5ae5f-0a04-4550-9042-a3c9cfee351a",
   "metadata": {},
   "outputs": [
    {
     "name": "stdin",
     "output_type": "stream",
     "text": [
      "Enter the value of n:  20\n"
     ]
    },
    {
     "name": "stdout",
     "output_type": "stream",
     "text": [
      "0,1,1,2,3,5,8,13,21,34,55,89,144,233,377,610,987,1597,2584,4181\n"
     ]
    }
   ],
   "source": [
    "n = int(input(\"Enter the value of n: \"))\n",
    "\n",
    "fibonacci = [0, 1]\n",
    "[fibonacci.append(fibonacci[-1] + fibonacci[-2]) for i in range(2, n)]\n",
    "\n",
    "print(','.join(str(i) for i in fibonacci))\n"
   ]
  },
  {
   "cell_type": "code",
   "execution_count": null,
   "id": "cec5ff48-5737-4dd0-89ec-fe256eb6c6d3",
   "metadata": {},
   "outputs": [],
   "source": [
    "### 4. Assuming that we have some email addresses in the \"username@companyname.com\" format, please write program to print the user name of a given email address. Both user names and company names are composed of letters only."
   ]
  },
  {
   "cell_type": "code",
   "execution_count": 8,
   "id": "49e5b711-b9f4-4bc3-80e5-2d365ce860a3",
   "metadata": {},
   "outputs": [
    {
     "name": "stdin",
     "output_type": "stream",
     "text": [
      "Enter an email address:  lapalikar@gmail.com\n"
     ]
    },
    {
     "name": "stdout",
     "output_type": "stream",
     "text": [
      "Username:  lapalikar\n"
     ]
    }
   ],
   "source": [
    "email = input(\"Enter an email address: \")\n",
    "username = email.split(\"@\")[0]\n",
    "print(\"Username: \", username)\n"
   ]
  },
  {
   "cell_type": "code",
   "execution_count": null,
   "id": "fcbbfb65-0fb7-4159-8d75-5a74c116522d",
   "metadata": {},
   "outputs": [],
   "source": [
    "### 5. Define a class named Shape and its subclass Square. The Square class has an init function which takes a length as argument. Both classes have a area function which can print the area of the shape where Shape's area is 0 by default."
   ]
  },
  {
   "cell_type": "code",
   "execution_count": 11,
   "id": "e1c14014-2cc4-453f-8488-8b015750c9a8",
   "metadata": {},
   "outputs": [
    {
     "name": "stdin",
     "output_type": "stream",
     "text": [
      "Enter length of Square:  25\n"
     ]
    },
    {
     "name": "stdout",
     "output_type": "stream",
     "text": [
      "Area of Square: 625\n"
     ]
    }
   ],
   "source": [
    "class Shape:\n",
    "    def area(self):\n",
    "        print(\"Area of Shape: 0\")\n",
    "\n",
    "class Square(Shape):\n",
    "    def __init__(self, length):\n",
    "        self.length = length\n",
    "        \n",
    "    def area(self):\n",
    "        print(\"Area of Square:\", self.length**2)\n",
    "\n",
    "length = int(input(\"Enter length of Square: \"))\n",
    "s = Square(length)\n",
    "s.area()\n",
    "\n"
   ]
  }
 ],
 "metadata": {
  "kernelspec": {
   "display_name": "Python 3 (ipykernel)",
   "language": "python",
   "name": "python3"
  },
  "language_info": {
   "codemirror_mode": {
    "name": "ipython",
    "version": 3
   },
   "file_extension": ".py",
   "mimetype": "text/x-python",
   "name": "python",
   "nbconvert_exporter": "python",
   "pygments_lexer": "ipython3",
   "version": "3.10.6"
  }
 },
 "nbformat": 4,
 "nbformat_minor": 5
}
