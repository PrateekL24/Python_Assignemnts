{
 "cells": [
  {
   "cell_type": "code",
   "execution_count": 1,
   "id": "fd1ce5a1-bb95-47c7-8e7e-d6ea20e97f2a",
   "metadata": {},
   "outputs": [],
   "source": [
    "### 1. Write a Python Program to find sum of array?"
   ]
  },
  {
   "cell_type": "code",
   "execution_count": 2,
   "id": "e3a2d846-efcf-4695-852f-4ba73c1176e8",
   "metadata": {},
   "outputs": [
    {
     "name": "stdout",
     "output_type": "stream",
     "text": [
      "24\n"
     ]
    }
   ],
   "source": [
    "def sum_arr(arr):\n",
    "    total = 0\n",
    "    for i in arr:\n",
    "        total += i\n",
    "    return total\n",
    "\n",
    "my_arr = [1,2,5,7,9]\n",
    "\n",
    "print(sum_arr(my_arr))"
   ]
  },
  {
   "cell_type": "code",
   "execution_count": null,
   "id": "0cb382af-67e0-436c-943b-6dbdcc7b7aa3",
   "metadata": {},
   "outputs": [],
   "source": [
    "### 2. Write a Python Program to find largest element in an array?\n"
   ]
  },
  {
   "cell_type": "code",
   "execution_count": 3,
   "id": "cd90ae71-9939-4f3a-aac4-21da75293fbc",
   "metadata": {},
   "outputs": [
    {
     "name": "stdout",
     "output_type": "stream",
     "text": [
      "546\n"
     ]
    }
   ],
   "source": [
    "def find_largest(arr):\n",
    "    largest = arr[0]\n",
    "    for i in range(1, len(arr)):\n",
    "        if arr[i] > largest:\n",
    "            largest = arr[i]\n",
    "    return largest\n",
    "\n",
    "my_arr = [1,0,38,546,74,7,45]\n",
    "\n",
    "print(find_largest(my_arr))"
   ]
  },
  {
   "cell_type": "code",
   "execution_count": null,
   "id": "9ea04992-b91c-4e7e-bcdb-9299cf0181da",
   "metadata": {},
   "outputs": [],
   "source": [
    "### 3. Write a Python Program for array rotation?"
   ]
  },
  {
   "cell_type": "code",
   "execution_count": 5,
   "id": "bcaf29d7-2afc-47b5-924e-a8d8312f084a",
   "metadata": {},
   "outputs": [
    {
     "name": "stdout",
     "output_type": "stream",
     "text": [
      "[3, 4, 5, 6, 7, 8, 1, 2]\n"
     ]
    }
   ],
   "source": [
    "def rotate_arr(arr, n):\n",
    "    arr= arr[n:] + arr[:n]\n",
    "    return arr\n",
    "my_arr = [1,2,3,4,5,6,7,8]\n",
    "n =2\n",
    "\n",
    "print(rotate_arr(my_arr,n))"
   ]
  },
  {
   "cell_type": "code",
   "execution_count": null,
   "id": "f2c2bcfe-2c2c-466a-9bb4-095abb5b2cd5",
   "metadata": {},
   "outputs": [],
   "source": [
    "### 4. Write a Python Program to Split the array and add the first part to the end?"
   ]
  },
  {
   "cell_type": "code",
   "execution_count": 6,
   "id": "8dd5339f-8424-4e5a-a0cd-ce71ce7c190d",
   "metadata": {},
   "outputs": [
    {
     "name": "stdout",
     "output_type": "stream",
     "text": [
      "[3, 4, 5, 1, 2]\n"
     ]
    }
   ],
   "source": [
    "def split_arr(arr, n):\n",
    "    arr= arr[n:] + arr[:n]\n",
    "    return arr\n",
    "my_arr = [1,2,3,4,5]\n",
    "n =2\n",
    "\n",
    "print(split_arr(my_arr,n))"
   ]
  },
  {
   "cell_type": "code",
   "execution_count": null,
   "id": "82084ce4-9591-47f5-b6a1-2fe02420bde9",
   "metadata": {},
   "outputs": [],
   "source": [
    "### 5. Write a Python Program to check if given array is Monotonic?"
   ]
  },
  {
   "cell_type": "code",
   "execution_count": null,
   "id": "f22395b5-1f18-4ed2-bd81-6a9d1a21cc87",
   "metadata": {},
   "outputs": [],
   "source": []
  },
  {
   "cell_type": "code",
   "execution_count": null,
   "id": "92942782-316e-4f93-98c6-0654e6c042af",
   "metadata": {},
   "outputs": [],
   "source": []
  },
  {
   "cell_type": "code",
   "execution_count": null,
   "id": "7ee80231-5be9-4c43-bef8-c749df312ad1",
   "metadata": {},
   "outputs": [],
   "source": []
  },
  {
   "cell_type": "code",
   "execution_count": null,
   "id": "1840d647-7d89-4e80-93b3-bf270e5fb1ac",
   "metadata": {},
   "outputs": [],
   "source": []
  }
 ],
 "metadata": {
  "kernelspec": {
   "display_name": "Python 3 (ipykernel)",
   "language": "python",
   "name": "python3"
  },
  "language_info": {
   "codemirror_mode": {
    "name": "ipython",
    "version": 3
   },
   "file_extension": ".py",
   "mimetype": "text/x-python",
   "name": "python",
   "nbconvert_exporter": "python",
   "pygments_lexer": "ipython3",
   "version": "3.10.6"
  }
 },
 "nbformat": 4,
 "nbformat_minor": 5
}
